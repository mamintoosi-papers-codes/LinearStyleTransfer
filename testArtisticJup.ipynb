{
 "cells": [
  {
   "cell_type": "code",
   "execution_count": 1,
   "metadata": {},
   "outputs": [],
   "source": [
    "import argparse\n",
    "import os\n",
    "import torch\n",
    "from libs.Loader import Dataset\n",
    "from libs.Matrix import MulLayer\n",
    "import torchvision.utils as vutils\n",
    "import torch.backends.cudnn as cudnn\n",
    "from libs.models import encoder3,encoder4\n",
    "from libs.models import decoder3,decoder4"
   ]
  },
  {
   "cell_type": "code",
   "execution_count": 2,
   "metadata": {},
   "outputs": [],
   "source": [
    "class MATparser:\n",
    "    vgg_dir ='models/vgg_r41.pth'\n",
    "    decoder_dir ='models/dec_r41.pth'\n",
    "    matrixPath ='models/r41.pth'\n",
    "    stylePath =\"data/style/\"\n",
    "    contentPath =\"data/MMMphotoes/\"\n",
    "    outf =\"ArtisticMMMphotoes/\"\n",
    "    batchSize =1\n",
    "    loadSize =512\n",
    "    fineSize =512\n",
    "    layer =\"r41\"\n",
    "    cuda = True"
   ]
  },
  {
   "cell_type": "code",
   "execution_count": 3,
   "metadata": {},
   "outputs": [
    {
     "name": "stdout",
     "output_type": "stream",
     "text": [
      "<__main__.MATparser object at 0x000002BDAC591CF8>\n"
     ]
    }
   ],
   "source": [
    "################# PREPARATIONS #################\n",
    "#opt = parser.parse_args()\n",
    "#opt.cuda = torch.cuda.is_available()\n",
    "opt = MATparser()\n",
    "print(opt)\n",
    "os.makedirs(opt.outf,exist_ok=True)\n",
    "cudnn.benchmark = True"
   ]
  },
  {
   "cell_type": "code",
   "execution_count": 4,
   "metadata": {},
   "outputs": [],
   "source": [
    "################# DATA #################\n",
    "content_dataset = Dataset(opt.contentPath,opt.loadSize,opt.fineSize,test=True)"
   ]
  },
  {
   "cell_type": "code",
   "execution_count": 5,
   "metadata": {},
   "outputs": [],
   "source": [
    "content_loader = torch.utils.data.DataLoader(dataset=content_dataset,\n",
    "                                             batch_size = opt.batchSize,\n",
    "                                             shuffle = False,\n",
    "                                             num_workers = 1)"
   ]
  },
  {
   "cell_type": "code",
   "execution_count": 6,
   "metadata": {},
   "outputs": [],
   "source": [
    "style_dataset = Dataset(opt.stylePath,opt.loadSize,opt.fineSize,test=True)\n",
    "style_loader = torch.utils.data.DataLoader(dataset=style_dataset,\n",
    "                                           batch_size = opt.batchSize,\n",
    "                                           shuffle = False,\n",
    "                                           num_workers = 1)\n",
    "\n",
    "################# MODEL #################\n",
    "if(opt.layer == 'r31'):\n",
    "    matrix = MulLayer('r31')\n",
    "    vgg = encoder3()\n",
    "    dec = decoder3()\n",
    "elif(opt.layer == 'r41'):\n",
    "    matrix = MulLayer('r41')\n",
    "    vgg = encoder4()\n",
    "    dec = decoder4()\n",
    "vgg.load_state_dict(torch.load(opt.vgg_dir))\n",
    "dec.load_state_dict(torch.load(opt.decoder_dir))\n",
    "matrix.load_state_dict(torch.load(opt.matrixPath))\n",
    "\n",
    "for param in vgg.parameters():\n",
    "    param.requires_grad = False\n",
    "for param in matrix.parameters():\n",
    "    param.requires_grad = False\n",
    "for param in dec.parameters():\n",
    "    param.requires_grad = False\n",
    "\n",
    "################# GLOBAL VARIABLE #################\n",
    "contentV = torch.Tensor(opt.batchSize,3,opt.fineSize,opt.fineSize)\n",
    "styleV = torch.Tensor(opt.batchSize,3,opt.fineSize,opt.fineSize)\n",
    "\n",
    "################# GPU  #################\n",
    "if(opt.cuda):\n",
    "    vgg.cuda()\n",
    "    dec.cuda()\n",
    "    matrix.cuda()\n",
    "    contentV = contentV.cuda()\n",
    "    styleV = styleV.cuda()"
   ]
  },
  {
   "cell_type": "code",
   "execution_count": 7,
   "metadata": {},
   "outputs": [
    {
     "data": {
      "text/plain": [
       "('fox1',)"
      ]
     },
     "execution_count": 7,
     "metadata": {},
     "output_type": "execute_result"
    }
   ],
   "source": [
    "(content,contentName) = next(iter(content_loader))\n",
    "#content\n",
    "contentName"
   ]
  },
  {
   "cell_type": "code",
   "execution_count": 15,
   "metadata": {},
   "outputs": [
    {
     "name": "stderr",
     "output_type": "stream",
     "text": [
      "d:\\ProgramData\\Anaconda3\\lib\\site-packages\\torch\\nn\\modules\\upsampling.py:177: UserWarning: nn.UpsamplingNearest2d is deprecated. Use nn.functional.interpolate instead.\n",
      "  warnings.warn(\"nn.UpsamplingNearest2d is deprecated. Use nn.functional.interpolate instead.\")\n",
      "d:\\ProgramData\\Anaconda3\\lib\\site-packages\\torch\\nn\\modules\\upsampling.py:122: UserWarning: nn.Upsampling is deprecated. Use nn.functional.interpolate instead.\n",
      "  warnings.warn(\"nn.Upsampling is deprecated. Use nn.functional.interpolate instead.\")\n"
     ]
    },
    {
     "name": "stdout",
     "output_type": "stream",
     "text": [
      "Transferred image saved at ArtisticMMMphotoes/fox1_018.png\n",
      "Transferred image saved at ArtisticMMMphotoes/fox1_088.png\n",
      "Transferred image saved at ArtisticMMMphotoes/fox1_10.png\n",
      "Transferred image saved at ArtisticMMMphotoes/fox1_100014.png\n",
      "Transferred image saved at ArtisticMMMphotoes/fox1_100024.png\n",
      "Transferred image saved at ArtisticMMMphotoes/fox1_100028.png\n",
      "Transferred image saved at ArtisticMMMphotoes/fox1_100122.png\n",
      "Transferred image saved at ArtisticMMMphotoes/fox1_10022.png\n",
      "Transferred image saved at ArtisticMMMphotoes/fox1_1130.png\n",
      "Transferred image saved at ArtisticMMMphotoes/fox1_117.png\n",
      "Transferred image saved at ArtisticMMMphotoes/fox1_14.png\n",
      "Transferred image saved at ArtisticMMMphotoes/fox1_1418.png\n",
      "Transferred image saved at ArtisticMMMphotoes/fox1_15.png\n",
      "Transferred image saved at ArtisticMMMphotoes/fox1_1538.png\n",
      "Transferred image saved at ArtisticMMMphotoes/fox1_261.png\n",
      "Transferred image saved at ArtisticMMMphotoes/fox1_27.png\n",
      "Transferred image saved at ArtisticMMMphotoes/fox1_3314.png\n",
      "Transferred image saved at ArtisticMMMphotoes/fox1_4689.png\n",
      "Transferred image saved at ArtisticMMMphotoes/fox1_5398.png\n",
      "Transferred image saved at ArtisticMMMphotoes/fox1_671.png\n",
      "Transferred image saved at ArtisticMMMphotoes/fox1_Alena.png\n",
      "Transferred image saved at ArtisticMMMphotoes/fox1_Mediterranean.png\n",
      "Transferred image saved at ArtisticMMMphotoes/fox1_antimonocromatismo.png\n",
      "Transferred image saved at ArtisticMMMphotoes/fox1_asheville.png\n",
      "Transferred image saved at ArtisticMMMphotoes/fox1_brushstrokes.png\n",
      "Transferred image saved at ArtisticMMMphotoes/fox1_candy.png\n",
      "Transferred image saved at ArtisticMMMphotoes/fox1_en_campo_gris.png\n",
      "Transferred image saved at ArtisticMMMphotoes/fox1_feathers.png\n",
      "Transferred image saved at ArtisticMMMphotoes/fox1_goeritz.png\n",
      "Transferred image saved at ArtisticMMMphotoes/fox1_himalayan.png\n",
      "Transferred image saved at ArtisticMMMphotoes/fox1_impronte_d_artista.png\n",
      "Transferred image saved at ArtisticMMMphotoes/fox1_in2.png\n",
      "Transferred image saved at ArtisticMMMphotoes/fox1_la_muse.png\n",
      "Transferred image saved at ArtisticMMMphotoes/fox1_mondrian.png\n",
      "Transferred image saved at ArtisticMMMphotoes/fox1_picasso_seated_nude_hr.png\n",
      "Transferred image saved at ArtisticMMMphotoes/fox1_picasso_self_portrait.png\n",
      "Transferred image saved at ArtisticMMMphotoes/fox1_scene_de_rue.png\n",
      "Transferred image saved at ArtisticMMMphotoes/fox1_sketch.png\n",
      "Transferred image saved at ArtisticMMMphotoes/fox1_the_resevoir_at_poitiers.png\n",
      "Transferred image saved at ArtisticMMMphotoes/fox1_woman_with_hat_matisse.png\n",
      "Transferred image saved at ArtisticMMMphotoes/fox2_018.png\n",
      "Transferred image saved at ArtisticMMMphotoes/fox2_088.png\n",
      "Transferred image saved at ArtisticMMMphotoes/fox2_10.png\n",
      "Transferred image saved at ArtisticMMMphotoes/fox2_100014.png\n",
      "Transferred image saved at ArtisticMMMphotoes/fox2_100024.png\n",
      "Transferred image saved at ArtisticMMMphotoes/fox2_100028.png\n",
      "Transferred image saved at ArtisticMMMphotoes/fox2_100122.png\n",
      "Transferred image saved at ArtisticMMMphotoes/fox2_10022.png\n",
      "Transferred image saved at ArtisticMMMphotoes/fox2_1130.png\n",
      "Transferred image saved at ArtisticMMMphotoes/fox2_117.png\n",
      "Transferred image saved at ArtisticMMMphotoes/fox2_14.png\n",
      "Transferred image saved at ArtisticMMMphotoes/fox2_1418.png\n",
      "Transferred image saved at ArtisticMMMphotoes/fox2_15.png\n",
      "Transferred image saved at ArtisticMMMphotoes/fox2_1538.png\n",
      "Transferred image saved at ArtisticMMMphotoes/fox2_261.png\n",
      "Transferred image saved at ArtisticMMMphotoes/fox2_27.png\n",
      "Transferred image saved at ArtisticMMMphotoes/fox2_3314.png\n",
      "Transferred image saved at ArtisticMMMphotoes/fox2_4689.png\n",
      "Transferred image saved at ArtisticMMMphotoes/fox2_5398.png\n",
      "Transferred image saved at ArtisticMMMphotoes/fox2_671.png\n",
      "Transferred image saved at ArtisticMMMphotoes/fox2_Alena.png\n",
      "Transferred image saved at ArtisticMMMphotoes/fox2_Mediterranean.png\n",
      "Transferred image saved at ArtisticMMMphotoes/fox2_antimonocromatismo.png\n",
      "Transferred image saved at ArtisticMMMphotoes/fox2_asheville.png\n",
      "Transferred image saved at ArtisticMMMphotoes/fox2_brushstrokes.png\n",
      "Transferred image saved at ArtisticMMMphotoes/fox2_candy.png\n",
      "Transferred image saved at ArtisticMMMphotoes/fox2_en_campo_gris.png\n",
      "Transferred image saved at ArtisticMMMphotoes/fox2_feathers.png\n",
      "Transferred image saved at ArtisticMMMphotoes/fox2_goeritz.png\n",
      "Transferred image saved at ArtisticMMMphotoes/fox2_himalayan.png\n",
      "Transferred image saved at ArtisticMMMphotoes/fox2_impronte_d_artista.png\n",
      "Transferred image saved at ArtisticMMMphotoes/fox2_in2.png\n",
      "Transferred image saved at ArtisticMMMphotoes/fox2_la_muse.png\n",
      "Transferred image saved at ArtisticMMMphotoes/fox2_mondrian.png\n",
      "Transferred image saved at ArtisticMMMphotoes/fox2_picasso_seated_nude_hr.png\n",
      "Transferred image saved at ArtisticMMMphotoes/fox2_picasso_self_portrait.png\n",
      "Transferred image saved at ArtisticMMMphotoes/fox2_scene_de_rue.png\n",
      "Transferred image saved at ArtisticMMMphotoes/fox2_sketch.png\n",
      "Transferred image saved at ArtisticMMMphotoes/fox2_the_resevoir_at_poitiers.png\n",
      "Transferred image saved at ArtisticMMMphotoes/fox2_woman_with_hat_matisse.png\n",
      "Transferred image saved at ArtisticMMMphotoes/fox3_018.png\n",
      "Transferred image saved at ArtisticMMMphotoes/fox3_088.png\n",
      "Transferred image saved at ArtisticMMMphotoes/fox3_10.png\n",
      "Transferred image saved at ArtisticMMMphotoes/fox3_100014.png\n",
      "Transferred image saved at ArtisticMMMphotoes/fox3_100024.png\n",
      "Transferred image saved at ArtisticMMMphotoes/fox3_100028.png\n",
      "Transferred image saved at ArtisticMMMphotoes/fox3_100122.png\n",
      "Transferred image saved at ArtisticMMMphotoes/fox3_10022.png\n",
      "Transferred image saved at ArtisticMMMphotoes/fox3_1130.png\n",
      "Transferred image saved at ArtisticMMMphotoes/fox3_117.png\n",
      "Transferred image saved at ArtisticMMMphotoes/fox3_14.png\n",
      "Transferred image saved at ArtisticMMMphotoes/fox3_1418.png\n",
      "Transferred image saved at ArtisticMMMphotoes/fox3_15.png\n",
      "Transferred image saved at ArtisticMMMphotoes/fox3_1538.png\n",
      "Transferred image saved at ArtisticMMMphotoes/fox3_261.png\n",
      "Transferred image saved at ArtisticMMMphotoes/fox3_27.png\n",
      "Transferred image saved at ArtisticMMMphotoes/fox3_3314.png\n",
      "Transferred image saved at ArtisticMMMphotoes/fox3_4689.png\n",
      "Transferred image saved at ArtisticMMMphotoes/fox3_5398.png\n",
      "Transferred image saved at ArtisticMMMphotoes/fox3_671.png\n",
      "Transferred image saved at ArtisticMMMphotoes/fox3_Alena.png\n",
      "Transferred image saved at ArtisticMMMphotoes/fox3_Mediterranean.png\n",
      "Transferred image saved at ArtisticMMMphotoes/fox3_antimonocromatismo.png\n",
      "Transferred image saved at ArtisticMMMphotoes/fox3_asheville.png\n",
      "Transferred image saved at ArtisticMMMphotoes/fox3_brushstrokes.png\n",
      "Transferred image saved at ArtisticMMMphotoes/fox3_candy.png\n",
      "Transferred image saved at ArtisticMMMphotoes/fox3_en_campo_gris.png\n",
      "Transferred image saved at ArtisticMMMphotoes/fox3_feathers.png\n",
      "Transferred image saved at ArtisticMMMphotoes/fox3_goeritz.png\n",
      "Transferred image saved at ArtisticMMMphotoes/fox3_himalayan.png\n",
      "Transferred image saved at ArtisticMMMphotoes/fox3_impronte_d_artista.png\n",
      "Transferred image saved at ArtisticMMMphotoes/fox3_in2.png\n",
      "Transferred image saved at ArtisticMMMphotoes/fox3_la_muse.png\n",
      "Transferred image saved at ArtisticMMMphotoes/fox3_mondrian.png\n",
      "Transferred image saved at ArtisticMMMphotoes/fox3_picasso_seated_nude_hr.png\n",
      "Transferred image saved at ArtisticMMMphotoes/fox3_picasso_self_portrait.png\n",
      "Transferred image saved at ArtisticMMMphotoes/fox3_scene_de_rue.png\n",
      "Transferred image saved at ArtisticMMMphotoes/fox3_sketch.png\n",
      "Transferred image saved at ArtisticMMMphotoes/fox3_the_resevoir_at_poitiers.png\n",
      "Transferred image saved at ArtisticMMMphotoes/fox3_woman_with_hat_matisse.png\n"
     ]
    }
   ],
   "source": [
    "# اضافه کردن واترمارک\n",
    "from PIL import Image\n",
    "from PIL import ImageDraw\n",
    "from PIL import ImageFont\n",
    "\n",
    "for ci,(content,contentName) in enumerate(content_loader):\n",
    "    contentName = contentName[0]\n",
    "    contentV.data.resize_(content.size()).copy_(content)\n",
    "    for sj,(style,styleName) in enumerate(style_loader):\n",
    "        styleName = styleName[0]\n",
    "        styleV.data.resize_(style.size()).copy_(style)\n",
    "\n",
    "        # forward\n",
    "        with torch.no_grad():\n",
    "            sF = vgg(styleV)\n",
    "            cF = vgg(contentV)\n",
    "\n",
    "            if(opt.layer == 'r41'):\n",
    "                feature,transmatrix = matrix(cF[opt.layer],sF[opt.layer])\n",
    "            else:\n",
    "                feature,transmatrix = matrix(cF,sF)\n",
    "            transfer = dec(feature)\n",
    "\n",
    "        transfer = transfer.clamp(0,1)\n",
    "        vutils.save_image(transfer.data,'%s/%s_%s.png'%(opt.outf,contentName,styleName),normalize=True,scale_each=True,nrow=opt.batchSize)\n",
    "        print('Transferred image saved at %s%s_%s.png'%(opt.outf,contentName,styleName))\n",
    "\n",
    "# make the image editable\n",
    "        photo = Image.open('%s/%s_%s.png'%(opt.outf,contentName,styleName))\n",
    "        drawing = ImageDraw.Draw(photo)\n",
    "        text='@Majid Momeni-Moghaddam             Stylized by: M. Amintoosi '\n",
    "        pos=(15, 480)\n",
    "        black = (3, 8, 12)\n",
    "        font = ImageFont.truetype(\"C:/Windows/Fonts/BERNHC.ttf\", 20)\n",
    "        drawing.text(pos, text,  font=font)\n",
    "#         photo.show()\n",
    "        wtrMrkFileName = '%s/%s_%s.jpg'%(opt.outf,contentName,styleName)\n",
    "        photo.save(wtrMrkFileName)"
   ]
  },
  {
   "cell_type": "code",
   "execution_count": null,
   "metadata": {},
   "outputs": [],
   "source": [
    "for ci,(content,contentName) in enumerate(content_loader):\n",
    "    contentName = contentName[0]\n",
    "    contentV.data.resize_(content.size()).copy_(content)\n",
    "    for sj,(style,styleName) in enumerate(style_loader):\n",
    "        styleName = styleName[0]\n",
    "        styleV.data.resize_(style.size()).copy_(style)\n",
    "\n",
    "        # forward\n",
    "        with torch.no_grad():\n",
    "            sF = vgg(styleV)\n",
    "            cF = vgg(contentV)\n",
    "\n",
    "            if(opt.layer == 'r41'):\n",
    "                feature,transmatrix = matrix(cF[opt.layer],sF[opt.layer])\n",
    "            else:\n",
    "                feature,transmatrix = matrix(cF,sF)\n",
    "            transfer = dec(feature)\n",
    "\n",
    "        transfer = transfer.clamp(0,1)\n",
    "        vutils.save_image(transfer.data,'%s/%s_%s.png'%(opt.outf,contentName,styleName),normalize=True,scale_each=True,nrow=opt.batchSize)\n",
    "        print('Transferred image saved at %s%s_%s.png'%(opt.outf,contentName,styleName))\n"
   ]
  },
  {
   "cell_type": "code",
   "execution_count": 11,
   "metadata": {},
   "outputs": [
    {
     "name": "stdout",
     "output_type": "stream",
     "text": [
      "ArtisticMMMphotoes//fox1_018.png\n"
     ]
    }
   ],
   "source": [
    "ss = '%s/%s_%s.png'%(opt.outf,contentName,styleName)\n",
    "print(ss)"
   ]
  },
  {
   "cell_type": "code",
   "execution_count": null,
   "metadata": {},
   "outputs": [],
   "source": []
  }
 ],
 "metadata": {
  "kernelspec": {
   "display_name": "Python 3",
   "language": "python",
   "name": "python3"
  },
  "language_info": {
   "codemirror_mode": {
    "name": "ipython",
    "version": 3
   },
   "file_extension": ".py",
   "mimetype": "text/x-python",
   "name": "python",
   "nbconvert_exporter": "python",
   "pygments_lexer": "ipython3",
   "version": "3.7.0"
  }
 },
 "nbformat": 4,
 "nbformat_minor": 2
}
